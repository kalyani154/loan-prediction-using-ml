{
 "cells": [
  {
   "cell_type": "code",
   "execution_count": 40,
   "id": "478946c7-809b-4e54-b5d4-820923824650",
   "metadata": {},
   "outputs": [],
   "source": [
    "import pandas as pd\n",
    "from sklearn.model_selection import train_test_split\n",
    "from sklearn.ensemble import RandomForestClassifier\n",
    "from sklearn.metrics import accuracy_score, precision_score, recall_score, f1_score, confusion_matrix\n",
    "from sklearn.preprocessing import LabelEncoder\n"
   ]
  },
  {
   "cell_type": "code",
   "execution_count": 42,
   "id": "709d717e-6048-4a53-ad02-ea54c0dc2073",
   "metadata": {},
   "outputs": [],
   "source": [
    "try:\n",
    "    data = pd.read_csv('loan prediction.csv')\n",
    "except FileNotFoundError:\n",
    "    print(\"File not found. Please make sure the path is correct.\")\n",
    "    pass"
   ]
  },
  {
   "cell_type": "code",
   "execution_count": 44,
   "id": "21a46c2c-132b-4cc3-80f6-d459b31bea99",
   "metadata": {},
   "outputs": [],
   "source": [
    "for column in data.select_dtypes(include=['number']).columns:\n",
    "    try:\n",
    "        data[column] = pd.to_numeric(data[column])\n",
    "    except ValueError:\n",
    "        data[column].fillna(data[column].mode()[0], inplace=True)\n",
    "numeric_cols = data.select_dtypes(include=['number']).columns\n",
    "data[numeric_cols] = data[numeric_cols].fillna(data[numeric_cols].mean())\n",
    "label_encoders = {}\n",
    "categorical_cols = data.select_dtypes(include=['object']).columns"
   ]
  },
  {
   "cell_type": "code",
   "execution_count": 56,
   "id": "2d5f0ad0-ceac-4667-9d61-e7d728261a47",
   "metadata": {},
   "outputs": [],
   "source": [
    "for col in categorical_cols:\n",
    "    le = LabelEncoder()\n",
    "    data[col] = le.fit_transform(data[col])\n",
    "    label_encoders[col] = le\n",
    "X = data.drop(['Loan_Status', 'Loan_ID'], axis=1)\n",
    "y = data['Loan_Status']\n"
   ]
  },
  {
   "cell_type": "code",
   "execution_count": 58,
   "id": "46d2af26-039d-49e2-81f9-8967833b32d3",
   "metadata": {},
   "outputs": [],
   "source": [
    "X_train, X_test, y_train, y_test = train_test_split(X, y, test_size=0.2, random_state=42)\n",
    "rf_classifier = RandomForestClassifier(random_state=42)\n",
    "rf_classifier.fit(X_train, y_train)\n",
    "y_pred = rf_classifier.predict(X_test)\n",
    "accuracy = accuracy_score(y_test, y_pred)\n",
    "precision = precision_score(y_test, y_pred)\n",
    "recall = recall_score(y_test, y_pred)"
   ]
  },
  {
   "cell_type": "code",
   "execution_count": 60,
   "id": "a0d45977-cd7d-4f90-abd4-0431a947476a",
   "metadata": {},
   "outputs": [
    {
     "name": "stdout",
     "output_type": "stream",
     "text": [
      "Accuracy: 0.7804878048780488\n",
      "Precision: 0.7623762376237624\n",
      "Recall: 0.9625\n"
     ]
    }
   ],
   "source": [
    "print(f\"Accuracy: {accuracy}\")\n",
    "print(f\"Precision: {precision}\")\n",
    "print(f\"Recall: {recall}\")"
   ]
  },
  {
   "cell_type": "code",
   "execution_count": 62,
   "id": "4f87ae44-beb3-452e-bab9-2bc6e541f577",
   "metadata": {},
   "outputs": [
    {
     "name": "stdout",
     "output_type": "stream",
     "text": [
      "F1 Score: 0.850828729281768\n"
     ]
    }
   ],
   "source": [
    "f1 = f1_score(y_test, y_pred)\n",
    "print(f\"F1 Score: {f1}\")"
   ]
  },
  {
   "cell_type": "code",
   "execution_count": 64,
   "id": "ae822f9c-959f-4dba-ab73-6beeac697bad",
   "metadata": {},
   "outputs": [
    {
     "name": "stdout",
     "output_type": "stream",
     "text": [
      "Confusion Matrix:\n",
      "[[19 24]\n",
      " [ 3 77]]\n"
     ]
    }
   ],
   "source": [
    "conf_matrix = confusion_matrix(y_test, y_pred)\n",
    "print(\"Confusion Matrix:\")\n",
    "print(conf_matrix)"
   ]
  }
 ],
 "metadata": {
  "kernelspec": {
   "display_name": "Python [conda env:base] *",
   "language": "python",
   "name": "conda-base-py"
  },
  "language_info": {
   "codemirror_mode": {
    "name": "ipython",
    "version": 3
   },
   "file_extension": ".py",
   "mimetype": "text/x-python",
   "name": "python",
   "nbconvert_exporter": "python",
   "pygments_lexer": "ipython3",
   "version": "3.12.7"
  }
 },
 "nbformat": 4,
 "nbformat_minor": 5
}
